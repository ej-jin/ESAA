{
 "cells": [
  {
   "cell_type": "markdown",
   "metadata": {},
   "source": [
    "# 과제2 : 파이썬 기초(2)\n",
    "## 제어문(for,while)/함수\n",
    "### 제출기한 : 9월 23일 월요일 18:59까지"
   ]
  },
  {
   "cell_type": "markdown",
   "metadata": {},
   "source": [
    "### 1. menu 리스트에는 판매중인 메뉴가 저장돼 있다. 아래와 같이 화면에 출력하라."
   ]
  },
  {
   "cell_type": "code",
   "execution_count": 1,
   "metadata": {},
   "outputs": [],
   "source": [
    "menu = [\"김밥\", \"라면\", \"튀김\"]"
   ]
  },
  {
   "cell_type": "code",
   "execution_count": 3,
   "metadata": {},
   "outputs": [
    {
     "name": "stdout",
     "output_type": "stream",
     "text": [
      "오늘의 메뉴:김밥\n",
      "오늘의 메뉴:라면\n",
      "오늘의 메뉴:튀김\n"
     ]
    }
   ],
   "source": [
    "실행 예"
   ]
  },
  {
   "cell_type": "code",
   "execution_count": 3,
   "metadata": {},
   "outputs": [
    {
     "name": "stdout",
     "output_type": "stream",
     "text": [
      "오늘의 메뉴:김밥\n",
      "오늘의 메뉴:라면\n",
      "오늘의 메뉴:튀김\n"
     ]
    }
   ],
   "source": [
    "menu = [\"김밥\", \"라면\", \"튀김\"]\n",
    "\n",
    "for i in menu:\n",
    "    print(\"오늘의 메뉴:\" + i)"
   ]
  },
  {
   "cell_type": "markdown",
   "metadata": {},
   "source": [
    "### 2. 다음과 같이 판매가가 저장된 리스트가 있을 때 부가세가 포함된 가격을 화면에 출력하라. 단 부가세는 10%로 가정한다."
   ]
  },
  {
   "cell_type": "code",
   "execution_count": 6,
   "metadata": {},
   "outputs": [],
   "source": [
    "prices = [100, 200, 300]"
   ]
  },
  {
   "cell_type": "code",
   "execution_count": 6,
   "metadata": {},
   "outputs": [
    {
     "name": "stdout",
     "output_type": "stream",
     "text": [
      "110.0\n",
      "220.0\n",
      "330.0\n"
     ]
    }
   ],
   "source": [
    "실행 예"
   ]
  },
  {
   "cell_type": "code",
   "execution_count": 8,
   "metadata": {},
   "outputs": [
    {
     "name": "stdout",
     "output_type": "stream",
     "text": [
      "110.0\n",
      "220.0\n",
      "330.0\n"
     ]
    }
   ],
   "source": [
    "for price in prices:\n",
    "    tex = price * 0.1\n",
    "    print(price+tex)"
   ]
  },
  {
   "cell_type": "markdown",
   "metadata": {},
   "source": [
    "### 3. my_list의 데이터 중에서 홀수 번째 위치의 값을 화면에 출력하라."
   ]
  },
  {
   "cell_type": "code",
   "execution_count": 9,
   "metadata": {},
   "outputs": [],
   "source": [
    "my_list = [1, 2, 3, 4, 5, 6]"
   ]
  },
  {
   "cell_type": "code",
   "execution_count": 3,
   "metadata": {},
   "outputs": [
    {
     "name": "stdout",
     "output_type": "stream",
     "text": [
      "1\n",
      "3\n",
      "5\n"
     ]
    }
   ],
   "source": [
    "실행 예"
   ]
  },
  {
   "cell_type": "code",
   "execution_count": 10,
   "metadata": {},
   "outputs": [
    {
     "name": "stdout",
     "output_type": "stream",
     "text": [
      "1\n",
      "3\n",
      "5\n"
     ]
    }
   ],
   "source": [
    "for i in my_list:\n",
    "    if i % 2 == 0:\n",
    "        continue\n",
    "    else:\n",
    "        print(i)"
   ]
  },
  {
   "cell_type": "markdown",
   "metadata": {},
   "source": [
    "### 4. 파일 이름이 리스트에 저장되어 있을 때 확장자가 *.h인 파일을 출력하라. (힌트: split 메서드를 사용)"
   ]
  },
  {
   "cell_type": "code",
   "execution_count": 11,
   "metadata": {},
   "outputs": [],
   "source": [
    "filenames = ['intra.h', 'intra.c', 'define.h', 'run.py']"
   ]
  },
  {
   "cell_type": "code",
   "execution_count": 25,
   "metadata": {},
   "outputs": [
    {
     "name": "stdout",
     "output_type": "stream",
     "text": [
      "intra.h\n",
      "define.h\n"
     ]
    }
   ],
   "source": [
    "실행 예"
   ]
  },
  {
   "cell_type": "code",
   "execution_count": 15,
   "metadata": {},
   "outputs": [
    {
     "name": "stdout",
     "output_type": "stream",
     "text": [
      "intra.h\n",
      "define.h\n"
     ]
    }
   ],
   "source": [
    "for filename in filenames:\n",
    "    fn = filename.split(\".\")\n",
    "    if fn[1] == 'h':\n",
    "        print(filename)\n",
    "    else:\n",
    "        continue"
   ]
  },
  {
   "cell_type": "markdown",
   "metadata": {},
   "source": [
    "### 5. while문을 사용해 1부터 100까지의 자연수 중 홀수의 합을 출력하라. "
   ]
  },
  {
   "cell_type": "code",
   "execution_count": 8,
   "metadata": {},
   "outputs": [
    {
     "name": "stdout",
     "output_type": "stream",
     "text": [
      "2500\n"
     ]
    }
   ],
   "source": [
    "실행 예"
   ]
  },
  {
   "cell_type": "code",
   "execution_count": 21,
   "metadata": {},
   "outputs": [
    {
     "name": "stdout",
     "output_type": "stream",
     "text": [
      "126\n"
     ]
    }
   ],
   "source": [
    "a=0\n",
    "while a <= 100 :\n",
    "    a += 1\n",
    "    if a % 2 == 0: continue\n",
    "    else: a += a\n",
    "    \n",
    "print(a)"
   ]
  },
  {
   "cell_type": "markdown",
   "metadata": {},
   "source": [
    "### 6. while문을 사용해 다음과 같이 별(*)을 표시하는 프로그램을 만들어라."
   ]
  },
  {
   "cell_type": "code",
   "execution_count": 10,
   "metadata": {},
   "outputs": [
    {
     "name": "stdout",
     "output_type": "stream",
     "text": [
      " *********\n",
      "  *******\n",
      "   *****\n",
      "    ***\n",
      "     *\n",
      "      \n"
     ]
    }
   ],
   "source": [
    "실행 예"
   ]
  },
  {
   "cell_type": "code",
   "execution_count": 27,
   "metadata": {},
   "outputs": [
    {
     "name": "stdout",
     "output_type": "stream",
     "text": [
      "*********\n",
      " ******* \n",
      "  *****  \n",
      "   ***   \n",
      "    *    \n"
     ]
    }
   ],
   "source": [
    "b=10\n",
    "while b <=10:\n",
    "    b -= 1\n",
    "    if b % 2 == 1:\n",
    "        star=\"*\" * b\n",
    "        print(\"{0:^9}\".format(star))\n",
    "    elif b == 0:\n",
    "        break\n",
    "    else: continue"
   ]
  },
  {
   "cell_type": "markdown",
   "metadata": {},
   "source": [
    "### 7. \"비트코인\" 문자열을 화면에 출력하는 print_coin() 함수를 정의하고, 정의한 함수를 호출하라."
   ]
  },
  {
   "cell_type": "code",
   "execution_count": 27,
   "metadata": {},
   "outputs": [
    {
     "name": "stdout",
     "output_type": "stream",
     "text": [
      "비트코인\n"
     ]
    }
   ],
   "source": [
    "실행 예"
   ]
  },
  {
   "cell_type": "code",
   "execution_count": 28,
   "metadata": {},
   "outputs": [
    {
     "name": "stdout",
     "output_type": "stream",
     "text": [
      "비트코인\n"
     ]
    }
   ],
   "source": [
    "def print_coin() :\n",
    "    print(\"비트코인\")\n",
    "    \n",
    "print_coin()"
   ]
  },
  {
   "cell_type": "markdown",
   "metadata": {},
   "source": [
    "### 8. 세 개의 수를 매개변수로 입력받아 평균을 반환하는 함수 mean_3nums()를 정의하고, 이 함수를 이용해 183, 203, 229의 평균을 출력하라."
   ]
  },
  {
   "cell_type": "code",
   "execution_count": 29,
   "metadata": {},
   "outputs": [
    {
     "name": "stdout",
     "output_type": "stream",
     "text": [
      "205.0\n"
     ]
    }
   ],
   "source": [
    "실행 예"
   ]
  },
  {
   "cell_type": "code",
   "execution_count": 30,
   "metadata": {},
   "outputs": [
    {
     "name": "stdout",
     "output_type": "stream",
     "text": [
      "205.0\n"
     ]
    }
   ],
   "source": [
    "def mean_3nums(a, b, c):\n",
    "    avg = (a+b+c)/3\n",
    "    print(avg)\n",
    "    \n",
    "mean_3nums(183, 203, 229)"
   ]
  },
  {
   "cell_type": "markdown",
   "metadata": {},
   "source": [
    "### 9. 개수에 제한 없이 매개변수로 입력받은 수들의 평균이나 표준편차를 반환하는 함수 stat_nums()를 정의하고, 이 함수를 이용해 242, 342, 121의 평균과 표준편차를 출력하라.\n",
    "#### (단, choice 매개변수가 'sd'일 때 표준편차, 'mean'일 때 평균을 반환하며, 제곱근은 math.sqrt(num)를 이용한다.)"
   ]
  },
  {
   "cell_type": "code",
   "execution_count": 15,
   "metadata": {},
   "outputs": [
    {
     "name": "stdout",
     "output_type": "stream",
     "text": [
      "235.0\n",
      "90.35854506723018\n"
     ]
    }
   ],
   "source": [
    "실행 예"
   ]
  },
  {
   "cell_type": "code",
   "execution_count": 8,
   "metadata": {},
   "outputs": [
    {
     "data": {
      "text/plain": [
       "2.0"
      ]
     },
     "execution_count": 8,
     "metadata": {},
     "output_type": "execute_result"
    }
   ],
   "source": [
    "#제곱근 구하는 법 : 제곱근은 내장함수가 없기 때문에 math를 임포트하여 함수를 사용한다.\n",
    "import math as math\n",
    "math.sqrt(4)"
   ]
  },
  {
   "cell_type": "code",
   "execution_count": 15,
   "metadata": {},
   "outputs": [],
   "source": [
    "def stat_nums(choice, *args): # choice라는 매개변수: 수식을 어떤걸로 할지 모를 때, *args: 입력값 몇 개 넣을지 모를 때\n",
    "   \n",
    "    sum1 = 0\n",
    "    for i in args:\n",
    "        sum1 = sum1 + i\n",
    "        mean = sum1 / len(args)\n",
    "    \n",
    "    sum2 = 0\n",
    "    for i2 in args:\n",
    "        sum2 = i2 ** 2\n",
    "        var = ( sum2 / len(args) ) - (mean**2)\n",
    "   \n",
    "        if choice == \"mean\":\n",
    "            result = mean\n",
    "            \n",
    "        elif choice == \"sd\":\n",
    "            sd = math.sqrt(var)\n",
    "            resut = sd\n",
    "    \n",
    "            \n",
    "    print(result)"
   ]
  },
  {
   "cell_type": "code",
   "execution_count": 62,
   "metadata": {},
   "outputs": [],
   "source": [
    "def stat_nums(choice, *args): # choice라는 매개변수: 수식을 어떤걸로 할지 모를 때, *args: 입력값 몇 개 넣을지 모를 때\n",
    "       \n",
    "        if choice == \"mean\":\n",
    "            sum = 0\n",
    "            for i in args:\n",
    "                sum = sum + i\n",
    "            mean = sum / len(args)\n",
    "            result = mean\n",
    "            return result\n",
    "            \n",
    "        elif choice == \"sd\":\n",
    "            sum1 = 0\n",
    "            sum2 = 0\n",
    "            for i2 in args:\n",
    "                sum1 = sum1 + i2\n",
    "                sum2 = sum2 + (i2**2)\n",
    "            mean_2 = ( sum1/len(args) )**2\n",
    "            var = ( sum2 / len(args) ) - mena_2\n",
    "            sd = math.sqrt(var)\n",
    "            result = sd\n",
    "            return result"
   ]
  },
  {
   "cell_type": "code",
   "execution_count": 63,
   "metadata": {},
   "outputs": [
    {
     "name": "stdout",
     "output_type": "stream",
     "text": [
      "235.0\n"
     ]
    },
    {
     "ename": "NameError",
     "evalue": "name 'mena_2' is not defined",
     "output_type": "error",
     "traceback": [
      "\u001b[0;31m---------------------------------------------------------------------------\u001b[0m",
      "\u001b[0;31mNameError\u001b[0m                                 Traceback (most recent call last)",
      "\u001b[0;32m<ipython-input-63-ab6c49c33fb2>\u001b[0m in \u001b[0;36m<module>\u001b[0;34m\u001b[0m\n\u001b[1;32m      2\u001b[0m \u001b[0mprint\u001b[0m\u001b[0;34m(\u001b[0m\u001b[0mmean\u001b[0m\u001b[0;34m)\u001b[0m\u001b[0;34m\u001b[0m\u001b[0;34m\u001b[0m\u001b[0m\n\u001b[1;32m      3\u001b[0m \u001b[0;34m\u001b[0m\u001b[0m\n\u001b[0;32m----> 4\u001b[0;31m \u001b[0msd\u001b[0m \u001b[0;34m=\u001b[0m \u001b[0mstat_nums\u001b[0m\u001b[0;34m(\u001b[0m\u001b[0;34m\"sd\"\u001b[0m\u001b[0;34m,\u001b[0m \u001b[0;36m242\u001b[0m\u001b[0;34m,\u001b[0m \u001b[0;36m342\u001b[0m\u001b[0;34m,\u001b[0m \u001b[0;36m121\u001b[0m\u001b[0;34m)\u001b[0m\u001b[0;34m\u001b[0m\u001b[0;34m\u001b[0m\u001b[0m\n\u001b[0m\u001b[1;32m      5\u001b[0m \u001b[0mprint\u001b[0m\u001b[0;34m(\u001b[0m\u001b[0msd\u001b[0m\u001b[0;34m)\u001b[0m\u001b[0;34m\u001b[0m\u001b[0;34m\u001b[0m\u001b[0m\n",
      "\u001b[0;32m<ipython-input-62-60fa25ec8f6d>\u001b[0m in \u001b[0;36mstat_nums\u001b[0;34m(choice, *args)\u001b[0m\n\u001b[1;32m     16\u001b[0m                 \u001b[0msum2\u001b[0m \u001b[0;34m=\u001b[0m \u001b[0msum2\u001b[0m \u001b[0;34m+\u001b[0m \u001b[0;34m(\u001b[0m\u001b[0mi2\u001b[0m\u001b[0;34m**\u001b[0m\u001b[0;36m2\u001b[0m\u001b[0;34m)\u001b[0m\u001b[0;34m\u001b[0m\u001b[0;34m\u001b[0m\u001b[0m\n\u001b[1;32m     17\u001b[0m             \u001b[0mmean_2\u001b[0m \u001b[0;34m=\u001b[0m \u001b[0;34m(\u001b[0m \u001b[0msum1\u001b[0m\u001b[0;34m/\u001b[0m\u001b[0mlen\u001b[0m\u001b[0;34m(\u001b[0m\u001b[0margs\u001b[0m\u001b[0;34m)\u001b[0m \u001b[0;34m)\u001b[0m\u001b[0;34m**\u001b[0m\u001b[0;36m2\u001b[0m\u001b[0;34m\u001b[0m\u001b[0;34m\u001b[0m\u001b[0m\n\u001b[0;32m---> 18\u001b[0;31m             \u001b[0mvar\u001b[0m \u001b[0;34m=\u001b[0m \u001b[0;34m(\u001b[0m \u001b[0msum2\u001b[0m \u001b[0;34m/\u001b[0m \u001b[0mlen\u001b[0m\u001b[0;34m(\u001b[0m\u001b[0margs\u001b[0m\u001b[0;34m)\u001b[0m \u001b[0;34m)\u001b[0m \u001b[0;34m-\u001b[0m \u001b[0mmena_2\u001b[0m\u001b[0;34m\u001b[0m\u001b[0;34m\u001b[0m\u001b[0m\n\u001b[0m\u001b[1;32m     19\u001b[0m             \u001b[0msd\u001b[0m \u001b[0;34m=\u001b[0m \u001b[0mmath\u001b[0m\u001b[0;34m.\u001b[0m\u001b[0msqrt\u001b[0m\u001b[0;34m(\u001b[0m\u001b[0mvar\u001b[0m\u001b[0;34m)\u001b[0m\u001b[0;34m\u001b[0m\u001b[0;34m\u001b[0m\u001b[0m\n\u001b[1;32m     20\u001b[0m             \u001b[0mresult\u001b[0m \u001b[0;34m=\u001b[0m \u001b[0msd\u001b[0m\u001b[0;34m\u001b[0m\u001b[0;34m\u001b[0m\u001b[0m\n",
      "\u001b[0;31mNameError\u001b[0m: name 'mena_2' is not defined"
     ]
    }
   ],
   "source": [
    "mean = stat_nums(\"mean\", 242, 342, 121)\n",
    "print(mean)\n",
    "\n",
    "sd = stat_nums(\"sd\", 242, 342, 121)\n",
    "print(sd)"
   ]
  },
  {
   "cell_type": "code",
   "execution_count": 132,
   "metadata": {},
   "outputs": [],
   "source": [
    "def stat_nums(choice, *args):   # choice라는 매개변수: 수식을 어떤걸로 할지 모를 때, *args: 입력값 몇 개 넣을지 모를 때\n",
    "   \n",
    "    if choice == \"mean\":\n",
    "        sum = 0\n",
    "        for i in args:\n",
    "            sum +=  i\n",
    "        result = sum / len(args) \n",
    "        return result\n",
    "    elif choice == \"sd\":\n",
    "        for i in args:\n",
    "            var = sum((i - mean) **2) / len(args)\n",
    "            sum2 = 0\n",
    "            for i in args:\n",
    "                sum2 +=  i\n",
    "            mean = sum2 / len(args)\n",
    "        result = math.sqrt(var)\n",
    "    return result"
   ]
  },
  {
   "cell_type": "code",
   "execution_count": 137,
   "metadata": {},
   "outputs": [],
   "source": [
    "def stat_nums(choice, *args):\n",
    "    if choice == \"mean\":\n",
    "        sum = 0\n",
    "        for i in args:\n",
    "            sum +=  i\n",
    "        result = sum / len(args) \n",
    "        return result\n",
    "    elif choice == \"sd\":\n",
    "        sum2 = 0\n",
    "        num = []\n",
    "        for i in args:\n",
    "            sum2 +=  i\n",
    "            num.append(i)\n",
    "        mean = sum2 / len(args)\n",
    "        var = sum(((num[i])-mean)**2) / len(args)\n",
    "        result = math.sqrt(var)\n",
    "    return resutl\n",
    "            "
   ]
  },
  {
   "cell_type": "code",
   "execution_count": 49,
   "metadata": {},
   "outputs": [],
   "source": [
    "def stat_nums(choice,*args):\n",
    "    sum=0\n",
    "    ss=0\n",
    "    for i in args:\n",
    "\n",
    "        sum=sum+i\n",
    "        ss=ss+i**2\n",
    "        mean=sum/len(args)\n",
    "        var = ss/len(args)-mean**2\n",
    "      \n",
    "        if choice == \"mean\":\n",
    "            result=mean\n",
    "            \n",
    "        elif choice == \"sd\":\n",
    "            sd=math.sqrt(var)\n",
    "            result=sd\n",
    "    \n",
    "    print(result)"
   ]
  },
  {
   "cell_type": "code",
   "execution_count": 50,
   "metadata": {},
   "outputs": [
    {
     "name": "stdout",
     "output_type": "stream",
     "text": [
      "235.0\n",
      "90.35854506723017\n"
     ]
    }
   ],
   "source": [
    "x=stat_nums(\"mean\",242, 342, 121)\n",
    "y=stat_nums(\"sd\",242, 342, 121)"
   ]
  },
  {
   "cell_type": "markdown",
   "metadata": {},
   "source": [
    "### 10. 매개변수로 입력받은 수의 1부터 9까지의 곱을 리스트로 반환하는 함수 gugu()를 정의하고, 이 함수를 이용해 구구단 7단을 출력하라."
   ]
  },
  {
   "cell_type": "code",
   "execution_count": 80,
   "metadata": {},
   "outputs": [
    {
     "name": "stdout",
     "output_type": "stream",
     "text": [
      "[7, 14, 21, 28, 35, 42, 49, 56, 63]\n"
     ]
    }
   ],
   "source": [
    "#실행 예\n",
    "print(gugu(7))"
   ]
  },
  {
   "cell_type": "code",
   "execution_count": 77,
   "metadata": {},
   "outputs": [],
   "source": [
    "def gugu(num):  # while문 활용\n",
    "    i=1\n",
    "    result = []\n",
    "    while i < 10:\n",
    "        result.append(num*i)\n",
    "        i +=1\n",
    "    return result"
   ]
  },
  {
   "cell_type": "code",
   "execution_count": 78,
   "metadata": {},
   "outputs": [
    {
     "name": "stdout",
     "output_type": "stream",
     "text": [
      "[7, 14, 21, 28, 35, 42, 49, 56, 63]\n"
     ]
    }
   ],
   "source": [
    "print(gugu(7))"
   ]
  },
  {
   "cell_type": "code",
   "execution_count": 81,
   "metadata": {},
   "outputs": [],
   "source": [
    "def gugu(num):  # for문 활용\n",
    "    result = []\n",
    "    for i in range(1,10):\n",
    "        result.append(num*i)\n",
    "    return result"
   ]
  },
  {
   "cell_type": "code",
   "execution_count": 83,
   "metadata": {},
   "outputs": [
    {
     "name": "stdout",
     "output_type": "stream",
     "text": [
      "[7, 14, 21, 28, 35, 42, 49, 56, 63]\n"
     ]
    }
   ],
   "source": [
    "print(gugu(7))"
   ]
  }
 ],
 "metadata": {
  "kernelspec": {
   "display_name": "Python 3",
   "language": "python",
   "name": "python3"
  },
  "language_info": {
   "codemirror_mode": {
    "name": "ipython",
    "version": 3
   },
   "file_extension": ".py",
   "mimetype": "text/x-python",
   "name": "python",
   "nbconvert_exporter": "python",
   "pygments_lexer": "ipython3",
   "version": "3.7.3"
  }
 },
 "nbformat": 4,
 "nbformat_minor": 2
}
